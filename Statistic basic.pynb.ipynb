{
 "cells": [
  {
   "cell_type": "markdown",
   "metadata": {},
   "source": [
    "# ***Statistic Advance 1 Assignment 24 October 2024 by Piyush Gaur***"
   ]
  },
  {
   "cell_type": "markdown",
   "metadata": {},
   "source": [
    "#### Question 1: Define the z-statistic and explain its relationship to the standard normal distribution. How is the z-statistic used in hypothesis testing?\n",
    "\n",
    "The **z-statistic** (or z-score) measures how many standard deviations a data point or sample statistic (e.g., sample mean) is away from the population mean. It is calculated as:\n",
    "\n",
    "$\n",
    "z = \\frac{X - \\mu}{\\sigma}\n",
    "$\n",
    "\n",
    "Where:\n",
    "- $ X $ is the observed value or sample statistic,\n",
    "- $ \\mu $ is the population mean,\n",
    "- $ \\sigma $ is the population standard deviation.\n",
    "\n",
    "The z-statistic is closely related to the **standard normal distribution**, which is a normal distribution with a mean of 0 and a standard deviation of 1. The z-statistic tells you where a data point lies on this distribution.\n",
    "\n",
    "In **hypothesis testing**, the z-statistic is used to test the difference between the sample and population means. It helps determine if the observed result is statistically significant by comparing the z-statistic to critical values of the standard normal distribution. If the z-statistic falls in the critical region (e.g., beyond ±1.96 for a 95% confidence interval), the null hypothesis is rejected.\n",
    "\n",
    "---\n",
    "\n",
    "#### Question 2: What is a p-value, and how is it used in hypothesis testing? What does it mean if the p-value is very small (e.g., 0.01)?\n",
    "\n",
    "The **p-value** is the probability of observing a result as extreme or more extreme than the one obtained, assuming the null hypothesis is true. It helps quantify the strength of evidence against the null hypothesis.\n",
    "\n",
    "In hypothesis testing, a small p-value indicates strong evidence against the null hypothesis, while a large p-value suggests weak evidence. Researchers typically use a significance level (denoted as $\\alpha $, often 0.05) as a threshold. If the p-value is smaller than $\\alpha $, the null hypothesis is rejected.\n",
    "\n",
    "A **very small p-value** (e.g., 0.01) means that there is only a 1% chance of observing the result under the null hypothesis. In this case, the evidence against the null hypothesis is strong, and it would typically be rejected.\n",
    "\n",
    "---\n",
    "\n",
    "#### Question 3: Compare and contrast the binomial and Bernoulli distributions.\n",
    "\n",
    "- **Bernoulli Distribution**: Represents a single experiment or trial with two possible outcomes—success (with probability $ p $) or failure (with probability $ $- p$). The random variable takes the value 1 for success and 0 for failure. It is the simplest discrete probability distribution.\n",
    "\n",
    "- **Binomial Distribution**: Describes the number of successes in $ n $ independent Bernoulli trials, each with the same probability $ p $. The random variable represents the number of successes over $ n $ trials, and its probability mass function is given by:\n",
    "\n",
    "$\n",
    "P(X = k) = \\binom{n}{k} p^k (1 - p)^{n - k}\n",
    "$\n",
    "\n",
    "Where $ X $ is the number of successes, $ k $ is a specific number of successes, $ n $ is the number of trials, and $ p $ is the probability of success in a single trial.\n",
    "\n",
    "**Comparison**:\n",
    "- The **Bernoulli distribution** is a special case of the **binomial distribution** where $ n = 1 $.\n",
    "- The **binomial distribution** generalizes the Bernoulli distribution to multiple trials.\n",
    "\n",
    "---\n",
    "\n",
    "#### Question 4: Under what conditions is the binomial distribution used, and how does it relate to the Bernoulli distribution?\n",
    "\n",
    "The **binomial distribution** is used under the following conditions:\n",
    "1. There are a fixed number $ n $ of independent trials.\n",
    "2. Each trial has two possible outcomes: success or failure.\n",
    "3. The probability of success $ p $ is the same for each trial.\n",
    "\n",
    "The binomial distribution is a sum of **Bernoulli trials**. If a random variable $ X $ follows a binomial distribution with parameters $ n $ and $ p $, it represents the total number of successes in $ n $ independent Bernoulli trials. Thus, the binomial distribution is essentially a collection of repeated Bernoulli experiments.\n",
    "\n",
    "---\n",
    "\n",
    "#### Question 5: What are the key properties of the Poisson distribution, and when is it appropriate to use this distribution?\n",
    "\n",
    "The **Poisson distribution** models the probability of a given number of events occurring in a fixed interval of time or space, under the assumption that the events occur independently and at a constant average rate.\n",
    "\n",
    "Key properties:\n",
    "1. The probability mass function (PMF) is:\n",
    "\n",
    "$\n",
    "P(X = k) = \\frac{\\lambda^k e^{-\\lambda}}{k!}\n",
    "$\n",
    "\n",
    "Where $ \\lambda $ is the average rate of occurrence, and $ k $ is the number of events.\n",
    "   \n",
    "2. The mean and variance of the distribution are both equal to $ \\lambda $.\n",
    "\n",
    "The Poisson distribution is appropriate when:\n",
    "- Events occur independently.\n",
    "- The average rate of occurrence is constant over time/space.\n",
    "- The number of possible events in the interval is theoretically unbounded.\n",
    "\n",
    "It is commonly used for rare events, such as modeling the number of emails received per hour or the number of customer arrivals at a store in a day.\n",
    "\n",
    "---\n",
    "\n",
    "#### Question 6: Define the terms \"probability distribution\" and \"probability density function\" (PDF). How does a PDF differ from a probability mass function (PMF)?\n",
    "\n",
    "- **Probability distribution**: Describes how probabilities are assigned to different outcomes of a random variable. It can be represented as a **probability mass function** (PMF) for discrete variables or a **probability density function** (PDF) for continuous variables.\n",
    "\n",
    "- **Probability density function (PDF)**: For a continuous random variable, the PDF represents the relative likelihood that the variable takes a specific value. The probability of the random variable falling within a particular range is found by integrating the PDF over that range. Unlike a PMF, the value of a PDF at a particular point is not a probability itself (as the total probability over the range must integrate to 1).\n",
    "\n",
    "The **difference between PDF and PMF**:\n",
    "- A **PMF** is used for **discrete random variables** and gives the probability that a random variable takes on a specific value.\n",
    "- A **PDF** is used for **continuous random variables** and gives the relative likelihood of values within a range.\n",
    "\n",
    "In short, a PMF sums over discrete points, while a PDF integrates over continuous ranges."
   ]
  },
  {
   "cell_type": "markdown",
   "metadata": {},
   "source": [
    "### Question 7: Explain the Central Limit Theorem (CLT) with an example.\n",
    "\n",
    "The **Central Limit Theorem (CLT)** states that the sampling distribution of the sample mean approaches a normal distribution, regardless of the population's distribution, as the sample size becomes large (typically $ n \\geq 30 $).\n",
    "\n",
    "Key points:\n",
    "1. If you take multiple samples from any population with mean $ \\mu $ and standard deviation $ \\sigma $, and compute their means, the distribution of those means will approximate a normal distribution.\n",
    "2. The mean of the sampling distribution will be $ \\mu $, and the standard deviation (standard error) will be $ \\frac{\\sigma}{\\sqrt{n}} $, where $ n $ is the sample size.\n",
    "\n",
    "**Example**:\n",
    "Consider a population of students with test scores following a skewed distribution. If you take multiple random samples (say $ n = 50 $) from this population and calculate the mean of each sample, the distribution of those sample means will approximate a normal distribution even though the original population is not normally distributed.\n",
    "\n",
    "This is why the CLT is crucial in hypothesis testing—it allows us to use normal distribution-based methods (like z-tests) for large samples, even if the underlying data is not normally distributed.\n",
    "\n",
    "---\n",
    "\n",
    "### Question 8: Compare z-scores and t-scores. When should you use a z-score, and when should a t-score be applied instead?\n",
    "\n",
    "**Z-score** and **t-score** both measure the number of standard deviations a sample statistic (e.g., sample mean) is from the population mean, but they are used in different situations:\n",
    "\n",
    "- **Z-score**: Used when:\n",
    "  - The population standard deviation ($ \\sigma $) is known.\n",
    "  - The sample size is large ($ n \\geq 30 $).\n",
    "  - Follows the standard normal distribution.\n",
    "\n",
    "  Formula: \n",
    "  $\n",
    "  z = \\frac{X - \\mu}{\\sigma / \\sqrt{n}}\n",
    "  $\n",
    "- **T-score**: Used when:\n",
    "  - The population standard deviation ($ \\sigma $) is **unknown**.\n",
    "  - The sample size is small ($ n < 30 $).\n",
    "  - Follows the **t-distribution**, which has fatter tails than the normal distribution, providing more uncertainty for small sample sizes.\n",
    "\n",
    "  Formula: \n",
    "  $\n",
    "  t = \\frac{X - \\mu}{s / \\sqrt{n}}\n",
    "  $\n",
    "  Where $ s $ is the sample standard deviation.\n",
    "\n",
    "**When to use**:\n",
    "- Use the **z-score** when you know the population standard deviation or when the sample size is large.\n",
    "- Use the **t-score** when the population standard deviation is unknown and the sample size is small.\n",
    "\n",
    "---"
   ]
  },
  {
   "cell_type": "markdown",
   "metadata": {},
   "source": [
    "#### 9.Given a sample mean of 105, a population mean of 100, a standard deviation of 15, and a sample size of 25, calculate the z-score and p-value. Based on a significance level of 0.05, do you reject or fail to reject the null hypothesis?"
   ]
  },
  {
   "cell_type": "code",
   "execution_count": 5,
   "metadata": {},
   "outputs": [
    {
     "data": {
      "text/plain": [
       "(1.6666666666666667, np.float64(0.09558070454562939))"
      ]
     },
     "execution_count": 5,
     "metadata": {},
     "output_type": "execute_result"
    }
   ],
   "source": [
    "\n",
    "import scipy.stats as stats # type: ignore\n",
    "import math\n",
    "\n",
    "sample_mean = 105\n",
    "population_mean = 100\n",
    "std_dev = 15\n",
    "sample_size = 25\n",
    "\n",
    "\n",
    "z_score = (sample_mean - population_mean) / (std_dev / math.sqrt(sample_size))\n",
    "\n",
    "p_value = 2 * (1 - stats.norm.cdf(abs(z_score)))\n",
    "\n",
    "# Output results\n",
    "z_score, p_value\n",
    "\n"
   ]
  },
  {
   "cell_type": "markdown",
   "metadata": {},
   "source": [
    "we were fail to reject the null hypothesis cause p value is greater than 0.05"
   ]
  },
  {
   "cell_type": "markdown",
   "metadata": {},
   "source": [
    "---\n",
    "#### Question 10: Simulate a binomial distribution with 10 trials and a probability of success of 0.6 using Python. Generate 1,000 samples and plot the distribution. What is the expected mean and variance?"
   ]
  },
  {
   "cell_type": "code",
   "execution_count": 7,
   "metadata": {},
   "outputs": [
    {
     "data": {
      "image/png": "[encoded data removed]",
      "text/plain": [
       "<Figure size 640x480 with 1 Axes>"
      ]
     },
     "metadata": {},
     "output_type": "display_data"
    },
    {
     "data": {
      "text/plain": [
       "(np.float64(6.042), np.float64(2.1902360000000005))"
      ]
     },
     "execution_count": 7,
     "metadata": {},
     "output_type": "execute_result"
    }
   ],
   "source": [
    "import numpy as np\n",
    "import matplotlib.pyplot as plt\n",
    "\n",
    "n = 10\n",
    "p = 0.6\n",
    "samples = 1000\n",
    "\n",
    "data = np.random.binomial(n, p, samples)\n",
    "\n",
    "plt.hist(data, bins=np.arange(n+2)-0.5, density=True, edgecolor='black')\n",
    "plt.title('Binomial Distribution (n=10, p=0.6)')\n",
    "plt.xlabel('Number of Successes')\n",
    "plt.ylabel('Probability')\n",
    "plt.show()\n",
    "\n",
    "mean = np.mean(data)\n",
    "variance = np.var(data)\n",
    "\n",
    "mean, variance\n"
   ]
  }
 ],
 "metadata": {
  "kernelspec": {
   "display_name": "Python 3",
   "language": "python",
   "name": "python3"
  },
  "language_info": {
   "codemirror_mode": {
    "name": "ipython",
    "version": 3
   },
   "file_extension": ".py",
   "mimetype": "text/x-python",
   "name": "python",
   "nbconvert_exporter": "python",
   "pygments_lexer": "ipython3",
   "version": "3.13.0"
  }
 },
 "nbformat": 4,
 "nbformat_minor": 2
}
